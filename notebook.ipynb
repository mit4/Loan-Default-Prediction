{
 "cells": [
  {
   "cell_type": "markdown",
   "metadata": {},
   "source": [
    "# <center> **Loan Defaul Prediction.** <center>"
   ]
  },
  {
   "cell_type": "markdown",
   "metadata": {
    "id": "k5T9XBDAaikg"
   },
   "source": [
    "\n",
    "#  Installing & Importing Libraries\n"
   ]
  },
  {
   "cell_type": "markdown",
   "metadata": {
    "id": "drocKDJ2amBg"
   },
   "source": [
    "### Installing & Upgrading Libraries"
   ]
  },
  {
   "cell_type": "code",
   "execution_count": 1,
   "metadata": {
    "id": "OnkW7DSeZRWB"
   },
   "outputs": [
    {
     "name": "stderr",
     "output_type": "stream",
     "text": [
      "ERROR: Invalid requirement: '#'\n",
      "ERROR: Invalid requirement: '#'\n",
      "ERROR: Invalid requirement: '#'\n",
      "ERROR: Invalid requirement: '#'\n"
     ]
    }
   ],
   "source": [
    "!pip install -q --upgrade datascience                               # Package that is required by pandas profiling\n",
    "!pip install -q --upgrade pandas-profiling                          # Library to generate basic statistics about data\n",
    "!pip install -q --upgrade yellowbrick                               # A data visualization library\n",
    "!pip install -q --upgrade imbalanced-learn                          # Toolbox for imbalanced dataset"
   ]
  },
  {
   "cell_type": "markdown",
   "metadata": {
    "id": "2Kfl3PunatnY"
   },
   "source": [
    "\n",
    "###  Importing Libraries"
   ]
  },
  {
   "cell_type": "code",
   "execution_count": 2,
   "metadata": {
    "id": "bl9dW2NRaom8"
   },
   "outputs": [],
   "source": [
    "#-------------------------------------------------------------------------------------------------------------------------------\n",
    "import pandas as pd                                                 # Importing for panel data analysis\n",
    "from pandas_profiling import ProfileReport                          # Import Pandas Profiling (To generate Univariate Analysis) \n",
    "pd.set_option('display.max_columns', None)                          # Unfolding hidden features if the cardinality is high      \n",
    "pd.set_option('display.max_colwidth', None)                         # Unfolding the max feature width for better clearity      \n",
    "pd.set_option('display.max_rows', None)                             # Unfolding hidden data points if the cardinality is high\n",
    "pd.set_option('mode.chained_assignment', None)                      # Removing restriction over chained assignments operations\n",
    "pd.set_option('display.float_format', lambda x: '%.2f' % x)         # To suppress scientific notation over exponential values\n",
    "#-------------------------------------------------------------------------------------------------------------------------------\n",
    "import numpy as np                                                  # Importing package numpys (For Numerical Python)                        \n",
    "from sklearn.preprocessing import StandardScaler                    # To sccale input features of the model\n",
    "from sklearn.feature_selection import SelectFromModel               # To select features from model using Yellow bricks\n",
    "from yellowbrick.model_selection import FeatureImportances          # To select important features out of the model\n",
    "#-------------------------------------------------------------------------------------------------------------------------------\n",
    "from sklearn.metrics import accuracy_score                          # To calculate accuracy score of the model   \n",
    "from sklearn.metrics import precision_score                         # To calculate precision score of the model\n",
    "from sklearn.metrics import recall_score                            # To calculate recall score of the model\n",
    "from sklearn.metrics import f1_score                                # To calculate f1 score of the model\n",
    "#-------------------------------------------------------------------------------------------------------------------------------\n",
    "from sklearn.model_selection import train_test_split                # To split the data in training and testing part\n",
    "from sklearn.linear_model import LogisticRegression                 # To develop logistic regression classifier\n",
    "from sklearn.ensemble import RandomForestClassifier                 # To develop random forest classifier\n",
    "from xgboost.sklearn import XGBClassifier                           # To develop xtreme gradient boosting classifier\n",
    "from imblearn.over_sampling import SMOTE                            # To perform oversampling of the sample data\n",
    "#-------------------------------------------------------------------------------------------------------------------------------\n",
    "from powerbiclient import Report                                    # To load Power BI reports in the notebook\n",
    "from powerbiclient.authentication import DeviceCodeLoginAuthentication # To authenticate Power BI MS Azure CLI\n",
    "#-------------------------------------------------------------------------------------------------------------------------------\n",
    "import matplotlib.pyplot as plt                                     # Importing pyplot interface using matplotlib\n",
    "import seaborn as sns                                               # Importin seaborm library for interactive visualization\n",
    "%matplotlib inline\n",
    "#-------------------------------------------------------------------------------------------------------------------------------\n",
    "import warnings                                                     # Importing warning to disable runtime warnings\n",
    "warnings.filterwarnings(\"ignore\")                                   # Warnings will appear only once"
   ]
  },
  {
   "cell_type": "markdown",
   "metadata": {
    "id": "17HjjOUVa2BR"
   },
   "source": [
    "\n",
    "# Data Acquisition & Description\n",
    "\n",
    "\n",
    "- The dataset for loan default prediction is provided by L&T along with the respective data description as shown below.\n",
    "\n",
    "</br>\n",
    "\n",
    "| Records | Features | Size |\n",
    "| :--: | :--: | :--: |\n",
    "| 233154 | 41 | 39.8 MB|\n",
    "\n",
    "</br>\n",
    "\n",
    "| ID | Variable Name       | Description                                                | # | ID | Variable Name                       | Description                                                                        |\n",
    "| :--: | :------------------- | :---------------------------------------------------------- | :-- | :--: | :----------------------------------- | :---------------------------------------------------------------------------------- |\n",
    "| 1  | **UniqueID**            | Identifier for customers                                   | # | 22 | **PERFORM\\_CNS.SCORE.DESCRIPTION**      | Bureau score description                                                           |\n",
    "| 2  | **loan\\_default**       | Payment default in the first EMI on due date               | # | 23 | **PRI.NO.OF.ACCTS**                     | count of total loans taken by the customer at the time of disbursement             |\n",
    "| 3  | **disbursed\\_amount**   | Amount of Loan disbursed                                   | # | 24 | **PRI.ACTIVE.ACCTS**                    | count of active loans taken by the customer at the time of disbursement            |\n",
    "| 4  | **asset\\_cost**         | Cost of the Asset                                          | # | 25 | **PRI.OVERDUE.ACCTS**                   | count of default accounts at the time of disbursement                              |\n",
    "| 5  | **ltv**                 | Loan to Value of the asset                                 | # | 26 | **PRI.CURRENT.BALANCE**                 | total Principal outstanding amount of the active loans at the time of disbursement |\n",
    "| 6  | **branch\\_id**          | Branch where the loan was disbursed                        | # | 27 | **PRI.SANCTIONED.AMOUNT**               | total amount that was sanctioned for all the loans at the time of disbursement     |\n",
    "| 7  | **supplier\\_id**        | Vehicle Dealer where the loan was disbursed                | # | 28 | **PRI.DISBURSED.AMOUNT**                | total amount that was disbursed for all the loans at the time of disbursement      |\n",
    "| 8  | **manufacturer\\_id**    | Vehicle manufacturer(Hero, Honda, TVS etc.)                | # | 29 | **SEC.NO.OF.ACCTS**                     | count of total loans taken by the customer at the time of disbursement             |\n",
    "| 9  | **Current\\_pincode**    | Current pincode of the customer                            | # | 30 | **SEC.ACTIVE.ACCTS**                    | count of active loans taken by the customer at the time of disbursement            |\n",
    "| 10 | **Date.of.Birth**       | Date of birth of the customer                              | # | 31 | **SEC.OVERDUE.ACCTS**                   | count of default accounts at the time of disbursement                              |\n",
    "| 11 | **Employment.Type**     | Employment Type of the customer (Salaried/Self Employed)   | # | 32 | **SEC.CURRENT.BALANCE**                 | total Principal outstanding amount of the active loans at the time of disbursement |\n",
    "| 12 | **DisbursalDate**       | Date of disbursement                                       | # | 33 | **SEC.SANCTIONED.AMOUNT**               | total amount that was sanctioned for all the loans at the time of disbursement     |\n",
    "| 13 | **State\\_ID**           | State of disbursement                                      | # | 34 | **SEC.DISBURSED.AMOUNT**                | total amount that was disbursed for all the loans at the time of disbursement      |\n",
    "| 14 | **Employee\\_code\\_ID**  | Employee of the organization who logged the disbursement   | # | 35 | **PRIMARY.INSTAL.AMT**                  | EMI Amount of the primary loan                                                     |\n",
    "| 15 | **MobileNo\\_Avl\\_Flag** | if Mobile no. was shared by the customer then flagged as 1 | # | 36 | **SEC.INSTAL.AMT**                      | EMI Amount of the secondary loan                                                   |\n",
    "| 16 | **Aadhar\\_flag**        | if aadhar was shared by the customer then flagged as 1     | # | 37 | **NEW.ACCTS.IN.LAST.SIX.MONTHS**        | New loans taken by the customer in last 6 months before the disbursment            |\n",
    "| 17 | **PAN\\_flag**           | if pan was shared by the customer then flagged as 1        | # | 38 | **DELINQUENT.ACCTS.IN.LAST.SIX.MONTHS** | Loans defaulted in the last 6 months                                               |\n",
    "| 18 | **VoterID\\_flag**       | if voter  was shared by the customer then flagged as 1     | # | 39 | **AVERAGE.ACCT.AGE**                    | Average loan tenure                                                                |\n",
    "| 19 | **Driving\\_flag**       | if DL was shared by the customer then flagged as 1         | # | 40 | **CREDIT.HISTORY.LENGTH**               | Time since first loan                                                              |\n",
    "| 20 | **Passport\\_flag**      | if passport was shared by the customer then flagged as 1   | # | 41 | **NO.OF\\_INQUIRIES**                    | Enquries done by the customer for loans                                            |\n",
    "| 21 | **PERFORM\\_CNS.SCORE**  | Bureau Score                                               | # |    |                                     |                                                                                    |"
   ]
  },
  {
   "cell_type": "code",
   "execution_count": 3,
   "metadata": {
    "colab": {
     "base_uri": "https://localhost:8080/",
     "height": 241
    },
    "id": "cCg5kJuvaokI",
    "outputId": "91ddd328-3f53-4e7e-ca63-cded9917f18a"
   },
   "outputs": [
    {
     "name": "stdout",
     "output_type": "stream",
     "text": [
      "Data Shape: (233154, 41)\n"
     ]
    },
    {
     "data": {
      "text/html": [
       "<div>\n",
       "<style scoped>\n",
       "    .dataframe tbody tr th:only-of-type {\n",
       "        vertical-align: middle;\n",
       "    }\n",
       "\n",
       "    .dataframe tbody tr th {\n",
       "        vertical-align: top;\n",
       "    }\n",
       "\n",
       "    .dataframe thead th {\n",
       "        text-align: right;\n",
       "    }\n",
       "</style>\n",
       "<table border=\"1\" class=\"dataframe\">\n",
       "  <thead>\n",
       "    <tr style=\"text-align: right;\">\n",
       "      <th></th>\n",
       "      <th>UniqueID</th>\n",
       "      <th>disbursed_amount</th>\n",
       "      <th>asset_cost</th>\n",
       "      <th>ltv</th>\n",
       "      <th>branch_id</th>\n",
       "      <th>supplier_id</th>\n",
       "      <th>manufacturer_id</th>\n",
       "      <th>Current_pincode_ID</th>\n",
       "      <th>Date.of.Birth</th>\n",
       "      <th>Employment.Type</th>\n",
       "      <th>DisbursalDate</th>\n",
       "      <th>State_ID</th>\n",
       "      <th>Employee_code_ID</th>\n",
       "      <th>MobileNo_Avl_Flag</th>\n",
       "      <th>Aadhar_flag</th>\n",
       "      <th>PAN_flag</th>\n",
       "      <th>VoterID_flag</th>\n",
       "      <th>Driving_flag</th>\n",
       "      <th>Passport_flag</th>\n",
       "      <th>PERFORM_CNS.SCORE</th>\n",
       "      <th>PERFORM_CNS.SCORE.DESCRIPTION</th>\n",
       "      <th>PRI.NO.OF.ACCTS</th>\n",
       "      <th>PRI.ACTIVE.ACCTS</th>\n",
       "      <th>PRI.OVERDUE.ACCTS</th>\n",
       "      <th>PRI.CURRENT.BALANCE</th>\n",
       "      <th>PRI.SANCTIONED.AMOUNT</th>\n",
       "      <th>PRI.DISBURSED.AMOUNT</th>\n",
       "      <th>SEC.NO.OF.ACCTS</th>\n",
       "      <th>SEC.ACTIVE.ACCTS</th>\n",
       "      <th>SEC.OVERDUE.ACCTS</th>\n",
       "      <th>SEC.CURRENT.BALANCE</th>\n",
       "      <th>SEC.SANCTIONED.AMOUNT</th>\n",
       "      <th>SEC.DISBURSED.AMOUNT</th>\n",
       "      <th>PRIMARY.INSTAL.AMT</th>\n",
       "      <th>SEC.INSTAL.AMT</th>\n",
       "      <th>NEW.ACCTS.IN.LAST.SIX.MONTHS</th>\n",
       "      <th>DELINQUENT.ACCTS.IN.LAST.SIX.MONTHS</th>\n",
       "      <th>AVERAGE.ACCT.AGE</th>\n",
       "      <th>CREDIT.HISTORY.LENGTH</th>\n",
       "      <th>NO.OF_INQUIRIES</th>\n",
       "      <th>loan_default</th>\n",
       "    </tr>\n",
       "  </thead>\n",
       "  <tbody>\n",
       "    <tr>\n",
       "      <th>0</th>\n",
       "      <td>420825</td>\n",
       "      <td>50578</td>\n",
       "      <td>58400</td>\n",
       "      <td>89.55</td>\n",
       "      <td>67</td>\n",
       "      <td>22807</td>\n",
       "      <td>45</td>\n",
       "      <td>1441</td>\n",
       "      <td>01-01-84</td>\n",
       "      <td>Salaried</td>\n",
       "      <td>03-08-18</td>\n",
       "      <td>6</td>\n",
       "      <td>1998</td>\n",
       "      <td>1</td>\n",
       "      <td>1</td>\n",
       "      <td>0</td>\n",
       "      <td>0</td>\n",
       "      <td>0</td>\n",
       "      <td>0</td>\n",
       "      <td>0</td>\n",
       "      <td>No Bureau History Available</td>\n",
       "      <td>0</td>\n",
       "      <td>0</td>\n",
       "      <td>0</td>\n",
       "      <td>0</td>\n",
       "      <td>0</td>\n",
       "      <td>0</td>\n",
       "      <td>0</td>\n",
       "      <td>0</td>\n",
       "      <td>0</td>\n",
       "      <td>0</td>\n",
       "      <td>0</td>\n",
       "      <td>0</td>\n",
       "      <td>0</td>\n",
       "      <td>0</td>\n",
       "      <td>0</td>\n",
       "      <td>0</td>\n",
       "      <td>0yrs 0mon</td>\n",
       "      <td>0yrs 0mon</td>\n",
       "      <td>0</td>\n",
       "      <td>0</td>\n",
       "    </tr>\n",
       "    <tr>\n",
       "      <th>1</th>\n",
       "      <td>537409</td>\n",
       "      <td>47145</td>\n",
       "      <td>65550</td>\n",
       "      <td>73.23</td>\n",
       "      <td>67</td>\n",
       "      <td>22807</td>\n",
       "      <td>45</td>\n",
       "      <td>1502</td>\n",
       "      <td>31-07-85</td>\n",
       "      <td>Self employed</td>\n",
       "      <td>26-09-18</td>\n",
       "      <td>6</td>\n",
       "      <td>1998</td>\n",
       "      <td>1</td>\n",
       "      <td>1</td>\n",
       "      <td>0</td>\n",
       "      <td>0</td>\n",
       "      <td>0</td>\n",
       "      <td>0</td>\n",
       "      <td>598</td>\n",
       "      <td>I-Medium Risk</td>\n",
       "      <td>1</td>\n",
       "      <td>1</td>\n",
       "      <td>1</td>\n",
       "      <td>27600</td>\n",
       "      <td>50200</td>\n",
       "      <td>50200</td>\n",
       "      <td>0</td>\n",
       "      <td>0</td>\n",
       "      <td>0</td>\n",
       "      <td>0</td>\n",
       "      <td>0</td>\n",
       "      <td>0</td>\n",
       "      <td>1991</td>\n",
       "      <td>0</td>\n",
       "      <td>0</td>\n",
       "      <td>1</td>\n",
       "      <td>1yrs 11mon</td>\n",
       "      <td>1yrs 11mon</td>\n",
       "      <td>0</td>\n",
       "      <td>1</td>\n",
       "    </tr>\n",
       "    <tr>\n",
       "      <th>2</th>\n",
       "      <td>417566</td>\n",
       "      <td>53278</td>\n",
       "      <td>61360</td>\n",
       "      <td>89.63</td>\n",
       "      <td>67</td>\n",
       "      <td>22807</td>\n",
       "      <td>45</td>\n",
       "      <td>1497</td>\n",
       "      <td>24-08-85</td>\n",
       "      <td>Self employed</td>\n",
       "      <td>01-08-18</td>\n",
       "      <td>6</td>\n",
       "      <td>1998</td>\n",
       "      <td>1</td>\n",
       "      <td>1</td>\n",
       "      <td>0</td>\n",
       "      <td>0</td>\n",
       "      <td>0</td>\n",
       "      <td>0</td>\n",
       "      <td>0</td>\n",
       "      <td>No Bureau History Available</td>\n",
       "      <td>0</td>\n",
       "      <td>0</td>\n",
       "      <td>0</td>\n",
       "      <td>0</td>\n",
       "      <td>0</td>\n",
       "      <td>0</td>\n",
       "      <td>0</td>\n",
       "      <td>0</td>\n",
       "      <td>0</td>\n",
       "      <td>0</td>\n",
       "      <td>0</td>\n",
       "      <td>0</td>\n",
       "      <td>0</td>\n",
       "      <td>0</td>\n",
       "      <td>0</td>\n",
       "      <td>0</td>\n",
       "      <td>0yrs 0mon</td>\n",
       "      <td>0yrs 0mon</td>\n",
       "      <td>0</td>\n",
       "      <td>0</td>\n",
       "    </tr>\n",
       "    <tr>\n",
       "      <th>3</th>\n",
       "      <td>624493</td>\n",
       "      <td>57513</td>\n",
       "      <td>66113</td>\n",
       "      <td>88.48</td>\n",
       "      <td>67</td>\n",
       "      <td>22807</td>\n",
       "      <td>45</td>\n",
       "      <td>1501</td>\n",
       "      <td>30-12-93</td>\n",
       "      <td>Self employed</td>\n",
       "      <td>26-10-18</td>\n",
       "      <td>6</td>\n",
       "      <td>1998</td>\n",
       "      <td>1</td>\n",
       "      <td>1</td>\n",
       "      <td>0</td>\n",
       "      <td>0</td>\n",
       "      <td>0</td>\n",
       "      <td>0</td>\n",
       "      <td>305</td>\n",
       "      <td>L-Very High Risk</td>\n",
       "      <td>3</td>\n",
       "      <td>0</td>\n",
       "      <td>0</td>\n",
       "      <td>0</td>\n",
       "      <td>0</td>\n",
       "      <td>0</td>\n",
       "      <td>0</td>\n",
       "      <td>0</td>\n",
       "      <td>0</td>\n",
       "      <td>0</td>\n",
       "      <td>0</td>\n",
       "      <td>0</td>\n",
       "      <td>31</td>\n",
       "      <td>0</td>\n",
       "      <td>0</td>\n",
       "      <td>0</td>\n",
       "      <td>0yrs 8mon</td>\n",
       "      <td>1yrs 3mon</td>\n",
       "      <td>1</td>\n",
       "      <td>1</td>\n",
       "    </tr>\n",
       "    <tr>\n",
       "      <th>4</th>\n",
       "      <td>539055</td>\n",
       "      <td>52378</td>\n",
       "      <td>60300</td>\n",
       "      <td>88.39</td>\n",
       "      <td>67</td>\n",
       "      <td>22807</td>\n",
       "      <td>45</td>\n",
       "      <td>1495</td>\n",
       "      <td>09-12-77</td>\n",
       "      <td>Self employed</td>\n",
       "      <td>26-09-18</td>\n",
       "      <td>6</td>\n",
       "      <td>1998</td>\n",
       "      <td>1</td>\n",
       "      <td>1</td>\n",
       "      <td>0</td>\n",
       "      <td>0</td>\n",
       "      <td>0</td>\n",
       "      <td>0</td>\n",
       "      <td>0</td>\n",
       "      <td>No Bureau History Available</td>\n",
       "      <td>0</td>\n",
       "      <td>0</td>\n",
       "      <td>0</td>\n",
       "      <td>0</td>\n",
       "      <td>0</td>\n",
       "      <td>0</td>\n",
       "      <td>0</td>\n",
       "      <td>0</td>\n",
       "      <td>0</td>\n",
       "      <td>0</td>\n",
       "      <td>0</td>\n",
       "      <td>0</td>\n",
       "      <td>0</td>\n",
       "      <td>0</td>\n",
       "      <td>0</td>\n",
       "      <td>0</td>\n",
       "      <td>0yrs 0mon</td>\n",
       "      <td>0yrs 0mon</td>\n",
       "      <td>1</td>\n",
       "      <td>1</td>\n",
       "    </tr>\n",
       "  </tbody>\n",
       "</table>\n",
       "</div>"
      ],
      "text/plain": [
       "   UniqueID  disbursed_amount  asset_cost   ltv  branch_id  supplier_id  \\\n",
       "0    420825             50578       58400 89.55         67        22807   \n",
       "1    537409             47145       65550 73.23         67        22807   \n",
       "2    417566             53278       61360 89.63         67        22807   \n",
       "3    624493             57513       66113 88.48         67        22807   \n",
       "4    539055             52378       60300 88.39         67        22807   \n",
       "\n",
       "   manufacturer_id  Current_pincode_ID Date.of.Birth Employment.Type  \\\n",
       "0               45                1441      01-01-84        Salaried   \n",
       "1               45                1502      31-07-85   Self employed   \n",
       "2               45                1497      24-08-85   Self employed   \n",
       "3               45                1501      30-12-93   Self employed   \n",
       "4               45                1495      09-12-77   Self employed   \n",
       "\n",
       "  DisbursalDate  State_ID  Employee_code_ID  MobileNo_Avl_Flag  Aadhar_flag  \\\n",
       "0      03-08-18         6              1998                  1            1   \n",
       "1      26-09-18         6              1998                  1            1   \n",
       "2      01-08-18         6              1998                  1            1   \n",
       "3      26-10-18         6              1998                  1            1   \n",
       "4      26-09-18         6              1998                  1            1   \n",
       "\n",
       "   PAN_flag  VoterID_flag  Driving_flag  Passport_flag  PERFORM_CNS.SCORE  \\\n",
       "0         0             0             0              0                  0   \n",
       "1         0             0             0              0                598   \n",
       "2         0             0             0              0                  0   \n",
       "3         0             0             0              0                305   \n",
       "4         0             0             0              0                  0   \n",
       "\n",
       "  PERFORM_CNS.SCORE.DESCRIPTION  PRI.NO.OF.ACCTS  PRI.ACTIVE.ACCTS  \\\n",
       "0   No Bureau History Available                0                 0   \n",
       "1                 I-Medium Risk                1                 1   \n",
       "2   No Bureau History Available                0                 0   \n",
       "3              L-Very High Risk                3                 0   \n",
       "4   No Bureau History Available                0                 0   \n",
       "\n",
       "   PRI.OVERDUE.ACCTS  PRI.CURRENT.BALANCE  PRI.SANCTIONED.AMOUNT  \\\n",
       "0                  0                    0                      0   \n",
       "1                  1                27600                  50200   \n",
       "2                  0                    0                      0   \n",
       "3                  0                    0                      0   \n",
       "4                  0                    0                      0   \n",
       "\n",
       "   PRI.DISBURSED.AMOUNT  SEC.NO.OF.ACCTS  SEC.ACTIVE.ACCTS  SEC.OVERDUE.ACCTS  \\\n",
       "0                     0                0                 0                  0   \n",
       "1                 50200                0                 0                  0   \n",
       "2                     0                0                 0                  0   \n",
       "3                     0                0                 0                  0   \n",
       "4                     0                0                 0                  0   \n",
       "\n",
       "   SEC.CURRENT.BALANCE  SEC.SANCTIONED.AMOUNT  SEC.DISBURSED.AMOUNT  \\\n",
       "0                    0                      0                     0   \n",
       "1                    0                      0                     0   \n",
       "2                    0                      0                     0   \n",
       "3                    0                      0                     0   \n",
       "4                    0                      0                     0   \n",
       "\n",
       "   PRIMARY.INSTAL.AMT  SEC.INSTAL.AMT  NEW.ACCTS.IN.LAST.SIX.MONTHS  \\\n",
       "0                   0               0                             0   \n",
       "1                1991               0                             0   \n",
       "2                   0               0                             0   \n",
       "3                  31               0                             0   \n",
       "4                   0               0                             0   \n",
       "\n",
       "   DELINQUENT.ACCTS.IN.LAST.SIX.MONTHS AVERAGE.ACCT.AGE CREDIT.HISTORY.LENGTH  \\\n",
       "0                                    0        0yrs 0mon             0yrs 0mon   \n",
       "1                                    1       1yrs 11mon            1yrs 11mon   \n",
       "2                                    0        0yrs 0mon             0yrs 0mon   \n",
       "3                                    0        0yrs 8mon             1yrs 3mon   \n",
       "4                                    0        0yrs 0mon             0yrs 0mon   \n",
       "\n",
       "   NO.OF_INQUIRIES  loan_default  \n",
       "0                0             0  \n",
       "1                0             1  \n",
       "2                0             0  \n",
       "3                1             1  \n",
       "4                1             1  "
      ]
     },
     "execution_count": 3,
     "metadata": {},
     "output_type": "execute_result"
    }
   ],
   "source": [
    "data = pd.read_csv(filepath_or_buffer='https://gitlab.com/coldperformer/multimedia/-/raw/main/machine-learning-projects/data/07-l&t-loan-default-train.csv?inline=false')\n",
    "print('Data Shape:', data.shape)\n",
    "data.head()"
   ]
  },
  {
   "cell_type": "markdown",
   "metadata": {
    "id": "jTHzKhlGbZN5"
   },
   "source": [
    "\n",
    "###  Data Description"
   ]
  },
  {
   "cell_type": "code",
   "execution_count": 4,
   "metadata": {
    "colab": {
     "base_uri": "https://localhost:8080/",
     "height": 317
    },
    "id": "5WOdH51iaobL",
    "outputId": "ef7e9eaa-3492-43e2-a220-60b6f59427d5"
   },
   "outputs": [
    {
     "data": {
      "text/html": [
       "<div>\n",
       "<style scoped>\n",
       "    .dataframe tbody tr th:only-of-type {\n",
       "        vertical-align: middle;\n",
       "    }\n",
       "\n",
       "    .dataframe tbody tr th {\n",
       "        vertical-align: top;\n",
       "    }\n",
       "\n",
       "    .dataframe thead th {\n",
       "        text-align: right;\n",
       "    }\n",
       "</style>\n",
       "<table border=\"1\" class=\"dataframe\">\n",
       "  <thead>\n",
       "    <tr style=\"text-align: right;\">\n",
       "      <th></th>\n",
       "      <th>UniqueID</th>\n",
       "      <th>disbursed_amount</th>\n",
       "      <th>asset_cost</th>\n",
       "      <th>ltv</th>\n",
       "      <th>branch_id</th>\n",
       "      <th>supplier_id</th>\n",
       "      <th>manufacturer_id</th>\n",
       "      <th>Current_pincode_ID</th>\n",
       "      <th>State_ID</th>\n",
       "      <th>Employee_code_ID</th>\n",
       "      <th>MobileNo_Avl_Flag</th>\n",
       "      <th>Aadhar_flag</th>\n",
       "      <th>PAN_flag</th>\n",
       "      <th>VoterID_flag</th>\n",
       "      <th>Driving_flag</th>\n",
       "      <th>Passport_flag</th>\n",
       "      <th>PERFORM_CNS.SCORE</th>\n",
       "      <th>PRI.NO.OF.ACCTS</th>\n",
       "      <th>PRI.ACTIVE.ACCTS</th>\n",
       "      <th>PRI.OVERDUE.ACCTS</th>\n",
       "      <th>PRI.CURRENT.BALANCE</th>\n",
       "      <th>PRI.SANCTIONED.AMOUNT</th>\n",
       "      <th>PRI.DISBURSED.AMOUNT</th>\n",
       "      <th>SEC.NO.OF.ACCTS</th>\n",
       "      <th>SEC.ACTIVE.ACCTS</th>\n",
       "      <th>SEC.OVERDUE.ACCTS</th>\n",
       "      <th>SEC.CURRENT.BALANCE</th>\n",
       "      <th>SEC.SANCTIONED.AMOUNT</th>\n",
       "      <th>SEC.DISBURSED.AMOUNT</th>\n",
       "      <th>PRIMARY.INSTAL.AMT</th>\n",
       "      <th>SEC.INSTAL.AMT</th>\n",
       "      <th>NEW.ACCTS.IN.LAST.SIX.MONTHS</th>\n",
       "      <th>DELINQUENT.ACCTS.IN.LAST.SIX.MONTHS</th>\n",
       "      <th>NO.OF_INQUIRIES</th>\n",
       "      <th>loan_default</th>\n",
       "    </tr>\n",
       "  </thead>\n",
       "  <tbody>\n",
       "    <tr>\n",
       "      <th>count</th>\n",
       "      <td>233154.00</td>\n",
       "      <td>233154.00</td>\n",
       "      <td>233154.00</td>\n",
       "      <td>233154.00</td>\n",
       "      <td>233154.00</td>\n",
       "      <td>233154.00</td>\n",
       "      <td>233154.00</td>\n",
       "      <td>233154.00</td>\n",
       "      <td>233154.00</td>\n",
       "      <td>233154.00</td>\n",
       "      <td>233154.00</td>\n",
       "      <td>233154.00</td>\n",
       "      <td>233154.00</td>\n",
       "      <td>233154.00</td>\n",
       "      <td>233154.00</td>\n",
       "      <td>233154.00</td>\n",
       "      <td>233154.00</td>\n",
       "      <td>233154.00</td>\n",
       "      <td>233154.00</td>\n",
       "      <td>233154.00</td>\n",
       "      <td>233154.00</td>\n",
       "      <td>233154.00</td>\n",
       "      <td>233154.00</td>\n",
       "      <td>233154.00</td>\n",
       "      <td>233154.00</td>\n",
       "      <td>233154.00</td>\n",
       "      <td>233154.00</td>\n",
       "      <td>233154.00</td>\n",
       "      <td>233154.00</td>\n",
       "      <td>233154.00</td>\n",
       "      <td>233154.00</td>\n",
       "      <td>233154.00</td>\n",
       "      <td>233154.00</td>\n",
       "      <td>233154.00</td>\n",
       "      <td>233154.00</td>\n",
       "    </tr>\n",
       "    <tr>\n",
       "      <th>mean</th>\n",
       "      <td>535917.57</td>\n",
       "      <td>54356.99</td>\n",
       "      <td>75865.07</td>\n",
       "      <td>74.75</td>\n",
       "      <td>72.94</td>\n",
       "      <td>19638.64</td>\n",
       "      <td>69.03</td>\n",
       "      <td>3396.88</td>\n",
       "      <td>7.26</td>\n",
       "      <td>1549.48</td>\n",
       "      <td>1.00</td>\n",
       "      <td>0.84</td>\n",
       "      <td>0.08</td>\n",
       "      <td>0.14</td>\n",
       "      <td>0.02</td>\n",
       "      <td>0.00</td>\n",
       "      <td>289.46</td>\n",
       "      <td>2.44</td>\n",
       "      <td>1.04</td>\n",
       "      <td>0.16</td>\n",
       "      <td>165900.08</td>\n",
       "      <td>218503.86</td>\n",
       "      <td>218065.90</td>\n",
       "      <td>0.06</td>\n",
       "      <td>0.03</td>\n",
       "      <td>0.01</td>\n",
       "      <td>5427.79</td>\n",
       "      <td>7295.92</td>\n",
       "      <td>7180.00</td>\n",
       "      <td>13105.48</td>\n",
       "      <td>323.27</td>\n",
       "      <td>0.38</td>\n",
       "      <td>0.10</td>\n",
       "      <td>0.21</td>\n",
       "      <td>0.22</td>\n",
       "    </tr>\n",
       "    <tr>\n",
       "      <th>std</th>\n",
       "      <td>68315.69</td>\n",
       "      <td>12971.31</td>\n",
       "      <td>18944.78</td>\n",
       "      <td>11.46</td>\n",
       "      <td>69.83</td>\n",
       "      <td>3491.95</td>\n",
       "      <td>22.14</td>\n",
       "      <td>2238.15</td>\n",
       "      <td>4.48</td>\n",
       "      <td>975.26</td>\n",
       "      <td>0.00</td>\n",
       "      <td>0.37</td>\n",
       "      <td>0.26</td>\n",
       "      <td>0.35</td>\n",
       "      <td>0.15</td>\n",
       "      <td>0.05</td>\n",
       "      <td>338.37</td>\n",
       "      <td>5.22</td>\n",
       "      <td>1.94</td>\n",
       "      <td>0.55</td>\n",
       "      <td>942273.58</td>\n",
       "      <td>2374794.13</td>\n",
       "      <td>2377743.85</td>\n",
       "      <td>0.63</td>\n",
       "      <td>0.32</td>\n",
       "      <td>0.11</td>\n",
       "      <td>170236.99</td>\n",
       "      <td>183155.99</td>\n",
       "      <td>182592.50</td>\n",
       "      <td>151367.90</td>\n",
       "      <td>15553.69</td>\n",
       "      <td>0.96</td>\n",
       "      <td>0.38</td>\n",
       "      <td>0.71</td>\n",
       "      <td>0.41</td>\n",
       "    </tr>\n",
       "    <tr>\n",
       "      <th>min</th>\n",
       "      <td>417428.00</td>\n",
       "      <td>13320.00</td>\n",
       "      <td>37000.00</td>\n",
       "      <td>10.03</td>\n",
       "      <td>1.00</td>\n",
       "      <td>10524.00</td>\n",
       "      <td>45.00</td>\n",
       "      <td>1.00</td>\n",
       "      <td>1.00</td>\n",
       "      <td>1.00</td>\n",
       "      <td>1.00</td>\n",
       "      <td>0.00</td>\n",
       "      <td>0.00</td>\n",
       "      <td>0.00</td>\n",
       "      <td>0.00</td>\n",
       "      <td>0.00</td>\n",
       "      <td>0.00</td>\n",
       "      <td>0.00</td>\n",
       "      <td>0.00</td>\n",
       "      <td>0.00</td>\n",
       "      <td>-6678296.00</td>\n",
       "      <td>0.00</td>\n",
       "      <td>0.00</td>\n",
       "      <td>0.00</td>\n",
       "      <td>0.00</td>\n",
       "      <td>0.00</td>\n",
       "      <td>-574647.00</td>\n",
       "      <td>0.00</td>\n",
       "      <td>0.00</td>\n",
       "      <td>0.00</td>\n",
       "      <td>0.00</td>\n",
       "      <td>0.00</td>\n",
       "      <td>0.00</td>\n",
       "      <td>0.00</td>\n",
       "      <td>0.00</td>\n",
       "    </tr>\n",
       "    <tr>\n",
       "      <th>25%</th>\n",
       "      <td>476786.25</td>\n",
       "      <td>47145.00</td>\n",
       "      <td>65717.00</td>\n",
       "      <td>68.88</td>\n",
       "      <td>14.00</td>\n",
       "      <td>16535.00</td>\n",
       "      <td>48.00</td>\n",
       "      <td>1511.00</td>\n",
       "      <td>4.00</td>\n",
       "      <td>713.00</td>\n",
       "      <td>1.00</td>\n",
       "      <td>1.00</td>\n",
       "      <td>0.00</td>\n",
       "      <td>0.00</td>\n",
       "      <td>0.00</td>\n",
       "      <td>0.00</td>\n",
       "      <td>0.00</td>\n",
       "      <td>0.00</td>\n",
       "      <td>0.00</td>\n",
       "      <td>0.00</td>\n",
       "      <td>0.00</td>\n",
       "      <td>0.00</td>\n",
       "      <td>0.00</td>\n",
       "      <td>0.00</td>\n",
       "      <td>0.00</td>\n",
       "      <td>0.00</td>\n",
       "      <td>0.00</td>\n",
       "      <td>0.00</td>\n",
       "      <td>0.00</td>\n",
       "      <td>0.00</td>\n",
       "      <td>0.00</td>\n",
       "      <td>0.00</td>\n",
       "      <td>0.00</td>\n",
       "      <td>0.00</td>\n",
       "      <td>0.00</td>\n",
       "    </tr>\n",
       "    <tr>\n",
       "      <th>50%</th>\n",
       "      <td>535978.50</td>\n",
       "      <td>53803.00</td>\n",
       "      <td>70946.00</td>\n",
       "      <td>76.80</td>\n",
       "      <td>61.00</td>\n",
       "      <td>20333.00</td>\n",
       "      <td>86.00</td>\n",
       "      <td>2970.00</td>\n",
       "      <td>6.00</td>\n",
       "      <td>1451.00</td>\n",
       "      <td>1.00</td>\n",
       "      <td>1.00</td>\n",
       "      <td>0.00</td>\n",
       "      <td>0.00</td>\n",
       "      <td>0.00</td>\n",
       "      <td>0.00</td>\n",
       "      <td>0.00</td>\n",
       "      <td>0.00</td>\n",
       "      <td>0.00</td>\n",
       "      <td>0.00</td>\n",
       "      <td>0.00</td>\n",
       "      <td>0.00</td>\n",
       "      <td>0.00</td>\n",
       "      <td>0.00</td>\n",
       "      <td>0.00</td>\n",
       "      <td>0.00</td>\n",
       "      <td>0.00</td>\n",
       "      <td>0.00</td>\n",
       "      <td>0.00</td>\n",
       "      <td>0.00</td>\n",
       "      <td>0.00</td>\n",
       "      <td>0.00</td>\n",
       "      <td>0.00</td>\n",
       "      <td>0.00</td>\n",
       "      <td>0.00</td>\n",
       "    </tr>\n",
       "    <tr>\n",
       "      <th>75%</th>\n",
       "      <td>595039.75</td>\n",
       "      <td>60413.00</td>\n",
       "      <td>79201.75</td>\n",
       "      <td>83.67</td>\n",
       "      <td>130.00</td>\n",
       "      <td>23000.00</td>\n",
       "      <td>86.00</td>\n",
       "      <td>5677.00</td>\n",
       "      <td>10.00</td>\n",
       "      <td>2362.00</td>\n",
       "      <td>1.00</td>\n",
       "      <td>1.00</td>\n",
       "      <td>0.00</td>\n",
       "      <td>0.00</td>\n",
       "      <td>0.00</td>\n",
       "      <td>0.00</td>\n",
       "      <td>678.00</td>\n",
       "      <td>3.00</td>\n",
       "      <td>1.00</td>\n",
       "      <td>0.00</td>\n",
       "      <td>35006.50</td>\n",
       "      <td>62500.00</td>\n",
       "      <td>60800.00</td>\n",
       "      <td>0.00</td>\n",
       "      <td>0.00</td>\n",
       "      <td>0.00</td>\n",
       "      <td>0.00</td>\n",
       "      <td>0.00</td>\n",
       "      <td>0.00</td>\n",
       "      <td>1999.00</td>\n",
       "      <td>0.00</td>\n",
       "      <td>0.00</td>\n",
       "      <td>0.00</td>\n",
       "      <td>0.00</td>\n",
       "      <td>0.00</td>\n",
       "    </tr>\n",
       "    <tr>\n",
       "      <th>max</th>\n",
       "      <td>671084.00</td>\n",
       "      <td>990572.00</td>\n",
       "      <td>1628992.00</td>\n",
       "      <td>95.00</td>\n",
       "      <td>261.00</td>\n",
       "      <td>24803.00</td>\n",
       "      <td>156.00</td>\n",
       "      <td>7345.00</td>\n",
       "      <td>22.00</td>\n",
       "      <td>3795.00</td>\n",
       "      <td>1.00</td>\n",
       "      <td>1.00</td>\n",
       "      <td>1.00</td>\n",
       "      <td>1.00</td>\n",
       "      <td>1.00</td>\n",
       "      <td>1.00</td>\n",
       "      <td>890.00</td>\n",
       "      <td>453.00</td>\n",
       "      <td>144.00</td>\n",
       "      <td>25.00</td>\n",
       "      <td>96524920.00</td>\n",
       "      <td>1000000000.00</td>\n",
       "      <td>1000000000.00</td>\n",
       "      <td>52.00</td>\n",
       "      <td>36.00</td>\n",
       "      <td>8.00</td>\n",
       "      <td>36032852.00</td>\n",
       "      <td>30000000.00</td>\n",
       "      <td>30000000.00</td>\n",
       "      <td>25642806.00</td>\n",
       "      <td>4170901.00</td>\n",
       "      <td>35.00</td>\n",
       "      <td>20.00</td>\n",
       "      <td>36.00</td>\n",
       "      <td>1.00</td>\n",
       "    </tr>\n",
       "  </tbody>\n",
       "</table>\n",
       "</div>"
      ],
      "text/plain": [
       "       UniqueID  disbursed_amount  asset_cost       ltv  branch_id  \\\n",
       "count 233154.00         233154.00   233154.00 233154.00  233154.00   \n",
       "mean  535917.57          54356.99    75865.07     74.75      72.94   \n",
       "std    68315.69          12971.31    18944.78     11.46      69.83   \n",
       "min   417428.00          13320.00    37000.00     10.03       1.00   \n",
       "25%   476786.25          47145.00    65717.00     68.88      14.00   \n",
       "50%   535978.50          53803.00    70946.00     76.80      61.00   \n",
       "75%   595039.75          60413.00    79201.75     83.67     130.00   \n",
       "max   671084.00         990572.00  1628992.00     95.00     261.00   \n",
       "\n",
       "       supplier_id  manufacturer_id  Current_pincode_ID  State_ID  \\\n",
       "count    233154.00        233154.00           233154.00 233154.00   \n",
       "mean      19638.64            69.03             3396.88      7.26   \n",
       "std        3491.95            22.14             2238.15      4.48   \n",
       "min       10524.00            45.00                1.00      1.00   \n",
       "25%       16535.00            48.00             1511.00      4.00   \n",
       "50%       20333.00            86.00             2970.00      6.00   \n",
       "75%       23000.00            86.00             5677.00     10.00   \n",
       "max       24803.00           156.00             7345.00     22.00   \n",
       "\n",
       "       Employee_code_ID  MobileNo_Avl_Flag  Aadhar_flag  PAN_flag  \\\n",
       "count         233154.00          233154.00    233154.00 233154.00   \n",
       "mean            1549.48               1.00         0.84      0.08   \n",
       "std              975.26               0.00         0.37      0.26   \n",
       "min                1.00               1.00         0.00      0.00   \n",
       "25%              713.00               1.00         1.00      0.00   \n",
       "50%             1451.00               1.00         1.00      0.00   \n",
       "75%             2362.00               1.00         1.00      0.00   \n",
       "max             3795.00               1.00         1.00      1.00   \n",
       "\n",
       "       VoterID_flag  Driving_flag  Passport_flag  PERFORM_CNS.SCORE  \\\n",
       "count     233154.00     233154.00      233154.00          233154.00   \n",
       "mean           0.14          0.02           0.00             289.46   \n",
       "std            0.35          0.15           0.05             338.37   \n",
       "min            0.00          0.00           0.00               0.00   \n",
       "25%            0.00          0.00           0.00               0.00   \n",
       "50%            0.00          0.00           0.00               0.00   \n",
       "75%            0.00          0.00           0.00             678.00   \n",
       "max            1.00          1.00           1.00             890.00   \n",
       "\n",
       "       PRI.NO.OF.ACCTS  PRI.ACTIVE.ACCTS  PRI.OVERDUE.ACCTS  \\\n",
       "count        233154.00         233154.00          233154.00   \n",
       "mean              2.44              1.04               0.16   \n",
       "std               5.22              1.94               0.55   \n",
       "min               0.00              0.00               0.00   \n",
       "25%               0.00              0.00               0.00   \n",
       "50%               0.00              0.00               0.00   \n",
       "75%               3.00              1.00               0.00   \n",
       "max             453.00            144.00              25.00   \n",
       "\n",
       "       PRI.CURRENT.BALANCE  PRI.SANCTIONED.AMOUNT  PRI.DISBURSED.AMOUNT  \\\n",
       "count            233154.00              233154.00             233154.00   \n",
       "mean             165900.08              218503.86             218065.90   \n",
       "std              942273.58             2374794.13            2377743.85   \n",
       "min            -6678296.00                   0.00                  0.00   \n",
       "25%                   0.00                   0.00                  0.00   \n",
       "50%                   0.00                   0.00                  0.00   \n",
       "75%               35006.50               62500.00              60800.00   \n",
       "max            96524920.00          1000000000.00         1000000000.00   \n",
       "\n",
       "       SEC.NO.OF.ACCTS  SEC.ACTIVE.ACCTS  SEC.OVERDUE.ACCTS  \\\n",
       "count        233154.00         233154.00          233154.00   \n",
       "mean              0.06              0.03               0.01   \n",
       "std               0.63              0.32               0.11   \n",
       "min               0.00              0.00               0.00   \n",
       "25%               0.00              0.00               0.00   \n",
       "50%               0.00              0.00               0.00   \n",
       "75%               0.00              0.00               0.00   \n",
       "max              52.00             36.00               8.00   \n",
       "\n",
       "       SEC.CURRENT.BALANCE  SEC.SANCTIONED.AMOUNT  SEC.DISBURSED.AMOUNT  \\\n",
       "count            233154.00              233154.00             233154.00   \n",
       "mean               5427.79                7295.92               7180.00   \n",
       "std              170236.99              183155.99             182592.50   \n",
       "min             -574647.00                   0.00                  0.00   \n",
       "25%                   0.00                   0.00                  0.00   \n",
       "50%                   0.00                   0.00                  0.00   \n",
       "75%                   0.00                   0.00                  0.00   \n",
       "max            36032852.00            30000000.00           30000000.00   \n",
       "\n",
       "       PRIMARY.INSTAL.AMT  SEC.INSTAL.AMT  NEW.ACCTS.IN.LAST.SIX.MONTHS  \\\n",
       "count           233154.00       233154.00                     233154.00   \n",
       "mean             13105.48          323.27                          0.38   \n",
       "std             151367.90        15553.69                          0.96   \n",
       "min                  0.00            0.00                          0.00   \n",
       "25%                  0.00            0.00                          0.00   \n",
       "50%                  0.00            0.00                          0.00   \n",
       "75%               1999.00            0.00                          0.00   \n",
       "max           25642806.00      4170901.00                         35.00   \n",
       "\n",
       "       DELINQUENT.ACCTS.IN.LAST.SIX.MONTHS  NO.OF_INQUIRIES  loan_default  \n",
       "count                            233154.00        233154.00     233154.00  \n",
       "mean                                  0.10             0.21          0.22  \n",
       "std                                   0.38             0.71          0.41  \n",
       "min                                   0.00             0.00          0.00  \n",
       "25%                                   0.00             0.00          0.00  \n",
       "50%                                   0.00             0.00          0.00  \n",
       "75%                                   0.00             0.00          0.00  \n",
       "max                                  20.00            36.00          1.00  "
      ]
     },
     "execution_count": 4,
     "metadata": {},
     "output_type": "execute_result"
    }
   ],
   "source": [
    "data.describe()"
   ]
  },
  {
   "cell_type": "markdown",
   "metadata": {
    "id": "S5mvRKbpbjSq"
   },
   "source": [
    "\n",
    "### Data Information"
   ]
  },
  {
   "cell_type": "code",
   "execution_count": 5,
   "metadata": {
    "colab": {
     "base_uri": "https://localhost:8080/"
    },
    "id": "qqCFCElYbaZ7",
    "outputId": "b1d58d4b-dcc8-4011-81d7-1a8fb16402fd"
   },
   "outputs": [
    {
     "name": "stdout",
     "output_type": "stream",
     "text": [
      "<class 'pandas.core.frame.DataFrame'>\n",
      "RangeIndex: 233154 entries, 0 to 233153\n",
      "Data columns (total 41 columns):\n",
      " #   Column                               Non-Null Count   Dtype  \n",
      "---  ------                               --------------   -----  \n",
      " 0   UniqueID                             233154 non-null  int64  \n",
      " 1   disbursed_amount                     233154 non-null  int64  \n",
      " 2   asset_cost                           233154 non-null  int64  \n",
      " 3   ltv                                  233154 non-null  float64\n",
      " 4   branch_id                            233154 non-null  int64  \n",
      " 5   supplier_id                          233154 non-null  int64  \n",
      " 6   manufacturer_id                      233154 non-null  int64  \n",
      " 7   Current_pincode_ID                   233154 non-null  int64  \n",
      " 8   Date.of.Birth                        233154 non-null  object \n",
      " 9   Employment.Type                      225493 non-null  object \n",
      " 10  DisbursalDate                        233154 non-null  object \n",
      " 11  State_ID                             233154 non-null  int64  \n",
      " 12  Employee_code_ID                     233154 non-null  int64  \n",
      " 13  MobileNo_Avl_Flag                    233154 non-null  int64  \n",
      " 14  Aadhar_flag                          233154 non-null  int64  \n",
      " 15  PAN_flag                             233154 non-null  int64  \n",
      " 16  VoterID_flag                         233154 non-null  int64  \n",
      " 17  Driving_flag                         233154 non-null  int64  \n",
      " 18  Passport_flag                        233154 non-null  int64  \n",
      " 19  PERFORM_CNS.SCORE                    233154 non-null  int64  \n",
      " 20  PERFORM_CNS.SCORE.DESCRIPTION        233154 non-null  object \n",
      " 21  PRI.NO.OF.ACCTS                      233154 non-null  int64  \n",
      " 22  PRI.ACTIVE.ACCTS                     233154 non-null  int64  \n",
      " 23  PRI.OVERDUE.ACCTS                    233154 non-null  int64  \n",
      " 24  PRI.CURRENT.BALANCE                  233154 non-null  int64  \n",
      " 25  PRI.SANCTIONED.AMOUNT                233154 non-null  int64  \n",
      " 26  PRI.DISBURSED.AMOUNT                 233154 non-null  int64  \n",
      " 27  SEC.NO.OF.ACCTS                      233154 non-null  int64  \n",
      " 28  SEC.ACTIVE.ACCTS                     233154 non-null  int64  \n",
      " 29  SEC.OVERDUE.ACCTS                    233154 non-null  int64  \n",
      " 30  SEC.CURRENT.BALANCE                  233154 non-null  int64  \n",
      " 31  SEC.SANCTIONED.AMOUNT                233154 non-null  int64  \n",
      " 32  SEC.DISBURSED.AMOUNT                 233154 non-null  int64  \n",
      " 33  PRIMARY.INSTAL.AMT                   233154 non-null  int64  \n",
      " 34  SEC.INSTAL.AMT                       233154 non-null  int64  \n",
      " 35  NEW.ACCTS.IN.LAST.SIX.MONTHS         233154 non-null  int64  \n",
      " 36  DELINQUENT.ACCTS.IN.LAST.SIX.MONTHS  233154 non-null  int64  \n",
      " 37  AVERAGE.ACCT.AGE                     233154 non-null  object \n",
      " 38  CREDIT.HISTORY.LENGTH                233154 non-null  object \n",
      " 39  NO.OF_INQUIRIES                      233154 non-null  int64  \n",
      " 40  loan_default                         233154 non-null  int64  \n",
      "dtypes: float64(1), int64(34), object(6)\n",
      "memory usage: 72.9+ MB\n"
     ]
    }
   ],
   "source": [
    "data.info()"
   ]
  },
  {
   "cell_type": "markdown",
   "metadata": {
    "id": "foPoveMhbkew"
   },
   "source": [
    "**Observations:**\n",
    "\n",
    "- We observed that there are **no null values** but **inconsistency** in data types.\n",
    "\n",
    "- Features such as \"**Date.of.Birth**\" and \"**DisbursalDate**\" have been identified as an **object type**; **instead**, they should be of **date type**.\n",
    "\n",
    "- Following set of features have been identified as an **integer type**; **instead**, they should be of **boolean type**.\n",
    "\n",
    "    - MobileNo_Avl_Flag, Aadhar_flag, PAN_flag, VoterID_flag, Driving_flag, Passport_flag "
   ]
  },
  {
   "cell_type": "markdown",
   "metadata": {
    "id": "RIhLwaKObmSw"
   },
   "source": [
    "\n",
    "# Data Pre-Processing"
   ]
  },
  {
   "cell_type": "markdown",
   "metadata": {
    "id": "qqPyw_4ubnuh"
   },
   "source": [
    "\n",
    "###  Pre Profiling Report\n",
    "\n",
    "- For **quick analysis** pandas profiling is very handy.\n",
    "\n",
    "- Generates profile reports from a pandas DataFrame.\n",
    "\n",
    "- For each column **statistics** are presented in an interactive HTML report."
   ]
  },
  {
   "cell_type": "code",
   "execution_count": 6,
   "metadata": {
    "id": "ZxzDuAo5baXU"
   },
   "outputs": [],
   "source": [
    "# profile = ProfileReport(df=data)\n",
    "# profile.to_file(output_file='Pre Profiling Report.html')\n",
    "# print('Accomplished!')"
   ]
  },
  {
   "cell_type": "markdown",
   "metadata": {
    "id": "ylhgM1C4br1B"
   },
   "source": [
    "**Observations:**\n",
    "\n",
    "- The report shows that there are **overall 41 features**, out of which **28 are numeral**, and **13 are categorical** types.\n",
    "\n",
    "- There exist missing data in cells of about 0.1% (7661).\n",
    "\t- Employment.Type has 7661 (3.3%) missing values\n",
    "\n",
    "- **UniqueID** feature has **unique values** in the column.\n",
    "\n",
    "- There are **no duplicate rows** in the dataset.\n",
    "\n",
    "- Feature \"**MobileNo_Avl_Flag**\" has a constant value \"**1**\", can be dropped.\n",
    "\n",
    "- The following set of features have a **high cardinality** in the dataset:\n",
    "\t- Date.of.Birth, DisbursalDate, AVERAGE.ACCT.AGE, CREDIT.HISTORY.LENGTH\n",
    "\n",
    "- The correlation of features among each other is as follows:\n",
    "\n",
    "    <details>\n",
    "\n",
    "    **<summary>Correlation Details: Expand to view summary</summary>**\n",
    "\n",
    "    - disbursed_amount is highly correlated with asset_cost\n",
    "    - Aadhar_flag is highly correlated with VoterID_flag\n",
    "    - PERFORM_CNS.SCORE is highly correlated with PRI.NO.OF.ACCTS\n",
    "    - PRI.CURRENT.BALANCE is highly correlated with PERFORM_CNS.SCORE\n",
    "    - PRI.SANCTIONED.AMOUNT is highly correlated with PERFORM_CNS.SCORE\n",
    "    - PRI.DISBURSED.AMOUNT is highly correlated with PERFORM_CNS.SCORE\n",
    "    - SEC.NO.OF.ACCTS is highly correlated with SEC.ACTIVE.ACCTS\n",
    "    - SEC.CURRENT.BALANCE is highly correlated with SEC.NO.OF.ACCTS\n",
    "    - SEC.SANCTIONED.AMOUNT is highly correlated with SEC.NO.OF.ACCTS\n",
    "    - SEC.DISBURSED.AMOUNT is highly correlated with SEC.NO.OF.ACCTS\n",
    "    - PRIMARY.INSTAL.AMT is highly correlated with PERFORM_CNS.SCORE\n",
    "    - SEC.INSTAL.AMT is highly correlated with SEC.NO.OF.ACCTS\n",
    "    - NEW.ACCTS.IN.LAST.SIX.MONTHS is highly correlated with PRI.NO.OF.ACCTS\n",
    "    - PRI.NO.OF.ACCTS is highly correlated with PRI.ACTIVE.ACCTS\n",
    "    - PRI.SANCTIONED.AMOUNT is highly correlated with PRI.DISBURSED.AMOUNT\n",
    "    - SEC.OVERDUE.ACCTS is highly correlated with SEC.NO.OF.ACCTS\n",
    "    - SEC.CURRENT.BALANCE is highly correlated with SEC.SANCTIONED.AMOUNT\n",
    "    - SEC.DISBURSED.AMOUNT is highly correlated with SEC.CURRENT.BALANCE\n",
    "    - PRI.ACTIVE.ACCTS is highly correlated with PERFORM_CNS.SCORE\n",
    "    - SEC.ACTIVE.ACCTS is highly correlated with SEC.NO.OF.ACCTS\n",
    "    - PRIMARY.INSTAL.AMT is highly correlated with PRI.NO.OF.ACCTS\n",
    "    - Aadhar_flag is highly correlated with MobileNo_Avl_Flag\n",
    "    - Driving_flag is highly correlated with MobileNo_Avl_Flag\n",
    "    - Employment.Type is highly correlated with MobileNo_Avl_Flag\n",
    "    - loan_default is highly correlated with MobileNo_Avl_Flag\n",
    "    - PERFORM_CNS.SCORE.DESCRIPTION is highly correlated with MobileNo_Avl_Flag\n",
    "    - DisbursalDate is highly correlated with MobileNo_Avl_Flag\n",
    "    - Passport_flag is highly correlated with MobileNo_Avl_Flag\n",
    "    - PAN_flag is highly correlated with MobileNo_Avl_Flag\n",
    "    - UniqueID is highly correlated with DisbursalDate\n",
    "    - branch_id is highly correlated with Current_pincode_ID\n",
    "    - State_ID is highly correlated with branch_id\n",
    "    - Aadhar_flag is highly correlated with State_ID\n",
    "    - VoterID_flag is highly correlated with State_ID\n",
    "    - PERFORM_CNS.SCORE is highly correlated with PERFORM_CNS.SCORE.DESCRIPTION\n",
    "    - PRI.ACTIVE.ACCTS is highly correlated with PERFORM_CNS.SCORE.DESCRIPTION\n",
    "    - PRI.CURRENT.BALANCE is highly correlated with PRI.ACTIVE.ACCTS\n",
    "    - PRI.SANCTIONED.AMOUNT is highly correlated with PRI.ACTIVE.ACCTS\n",
    "    - PRI.DISBURSED.AMOUNT is highly correlated with PRI.ACTIVE.ACCTS\n",
    "    - SEC.CURRENT.BALANCE is highly correlated with SEC.ACTIVE.ACCTS\n",
    "    - SEC.SANCTIONED.AMOUNT is highly correlated with SEC.ACTIVE.ACCTS\n",
    "    - SEC.DISBURSED.AMOUNT is highly correlated with SEC.ACTIVE.ACCTS\n",
    "\n",
    "    </details>\n",
    "\n",
    "\n",
    "- The skewness details of features is as follows:\n",
    "\n",
    "    <details>\n",
    "\n",
    "    **<summary>Skewness Details: Expand to view summary</summary>**\n",
    "\n",
    "    - PRI.CURRENT.BALANCE (γ1 = 29.42581325)\n",
    "    - PRI.SANCTIONED.AMOUNT (γ1 = 323.6972121)\n",
    "    - PRI.DISBURSED.AMOUNT (γ1 = 322.5414945)\n",
    "    - SEC.NO.OF.ACCTS (γ1 = 27.98609032)\n",
    "    - SEC.ACTIVE.ACCTS (γ1 = 30.59951015)\n",
    "    - SEC.OVERDUE.ACCTS (γ1 = 24.12927125)\n",
    "    - SEC.CURRENT.BALANCE (γ1 = 108.5062952)\n",
    "    - SEC.SANCTIONED.AMOUNT (γ1 = 75.25493196)\n",
    "    - SEC.DISBURSED.AMOUNT (γ1 = 75.76425191)\n",
    "    - PRIMARY.INSTAL.AMT (γ1 = 69.91615647)\n",
    "    - SEC.INSTAL.AMT (γ1 = 153.8063689)\n",
    "\n",
    "    </details>\n",
    "\n",
    "\n",
    "- The details of feature containing zeros can be find below.\n",
    "\n",
    "    <details>\n",
    "\n",
    "    **<summary>Zero Values Details: Expand to view summary</summary>**\n",
    "\n",
    "    - PERFORM_CNS.SCORE - 116950 (50.2%)\n",
    "    - PRI.NO.OF.ACCTS - 116950 (50.2%)\n",
    "    - PRI.ACTIVE.ACCTS - 137016 (58.8%)\n",
    "    - PRI.OVERDUE.ACCTS - 206879 (88.7%)\n",
    "    - PRI.CURRENT.BALANCE - 141696 (60.8%)\n",
    "    - PRI.SANCTIONED.AMOUNT - 138096 (59.2%)\n",
    "    - PRI.DISBURSED.AMOUNT - 138204 (59.3%)\n",
    "    - SEC.NO.OF.ACCTS - 227289 (97.5%)\n",
    "    - SEC.ACTIVE.ACCTS - 229337 (98.4%)\n",
    "    - SEC.OVERDUE.ACCTS - 231817 (99.4%)\n",
    "    - SEC.CURRENT.BALANCE - 229790 (98.6%)\n",
    "    - SEC.SANCTIONED.AMOUNT - 229418 (98.4%)\n",
    "    - SEC.DISBURSED.AMOUNT - 229450 (98.4%)\n",
    "    - PRIMARY.INSTAL.AMT - 159517 (68.4%)\n",
    "    - SEC.INSTAL.AMT - 230937 (99.0%)\n",
    "    - NEW.ACCTS.IN.LAST.SIX.MONTHS - 181494 (77.8%)\n",
    "    - DELINQUENT.ACCTS.IN.LAST.SIX.MONTHS - 214959 (92.2%)\n",
    "    - NO.OF_INQUIRIES - 201961 (86.6%)\n",
    "\n",
    "    </details>\n",
    "\n",
    "\n"
   ]
  },
  {
   "cell_type": "markdown",
   "metadata": {
    "id": "9LDQHMs4bw-H"
   },
   "source": [
    "\n",
    "### Data Cleaning"
   ]
  },
  {
   "cell_type": "code",
   "execution_count": 7,
   "metadata": {
    "id": "AmKxxW6xbaVR"
   },
   "outputs": [],
   "source": [
    "# Dropping null values from cells\n",
    "data.dropna(inplace=True)\n",
    "\n",
    "# Droping MobileNo_Avl_Flag from train and test data\n",
    "data.drop(labels=['MobileNo_Avl_Flag'], axis=1, inplace=True)\n",
    "\n",
    "# Transforming Date.of.Birth and DisbursalDate to datetime\n",
    "data['Date.of.Birth'] = pd.to_datetime(data['Date.of.Birth'])\n",
    "data['DisbursalDate'] = pd.to_datetime(data['DisbursalDate'])\n",
    "\n",
    "# Transforming Aadhar_flag, PAN_flag, VoterID_flag, \n",
    "# Driving_flag, Passport_flag to boolean type\n",
    "data['Aadhar_flag'] = data['Aadhar_flag'].astype(np.bool)\n",
    "data['PAN_flag'] = data['PAN_flag'].astype(np.bool)\n",
    "data['VoterID_flag'] = data['VoterID_flag'].astype(np.bool)\n",
    "data['Driving_flag'] = data['Driving_flag'].astype(np.bool)\n",
    "data['Passport_flag'] = data['Passport_flag'].astype(np.bool)"
   ]
  },
  {
   "cell_type": "markdown",
   "metadata": {
    "id": "-270eRPTb0-P"
   },
   "source": [
    "**Observations:**\n",
    "\n",
    "- We have successfully cleansed our dataset.\n",
    "\n",
    "- To verify, let's have a quick glance at the pandas profiling report."
   ]
  },
  {
   "cell_type": "markdown",
   "metadata": {
    "id": "31pxb7gGcoHS"
   },
   "source": [
    "\n",
    "### Post Profiling Report"
   ]
  },
  {
   "cell_type": "code",
   "execution_count": 8,
   "metadata": {
    "id": "OCFc4scec6R8"
   },
   "outputs": [],
   "source": [
    "# profile = ProfileReport(df=data)\n",
    "# profile.to_file(output_file='Post Profiling Report.html')\n",
    "# print('Accomplished!')"
   ]
  },
  {
   "cell_type": "markdown",
   "metadata": {
    "id": "7LKn5An_lyVd"
   },
   "source": [
    "**Observations:**\n",
    "\n",
    "- We can observe that inconsistent data types have been rectified.\n",
    "\n",
    "- There is no missing data and after performing all the operations, there isn't any major change in the dataset."
   ]
  },
  {
   "cell_type": "code",
   "execution_count": 9,
   "metadata": {
    "id": "rz4CTChfDGSB"
   },
   "outputs": [],
   "source": [
    "data.to_csv('l&t-cleansed-data.csv', index=False)"
   ]
  },
  {
   "cell_type": "markdown",
   "metadata": {
    "id": "dAcB7RiTcrYf"
   },
   "source": [
    "\n",
    "# Data Post-Processing"
   ]
  },
  {
   "cell_type": "markdown",
   "metadata": {
    "id": "RQeIy3z6dIKQ"
   },
   "source": [
    "\n",
    "###  Feature Encoding\n"
   ]
  },
  {
   "cell_type": "code",
   "execution_count": 10,
   "metadata": {
    "colab": {
     "base_uri": "https://localhost:8080/"
    },
    "id": "g6lK0ejMbaPA",
    "outputId": "149b8109-4809-4bd6-9afa-5b50a2cb8ef9"
   },
   "outputs": [
    {
     "name": "stdout",
     "output_type": "stream",
     "text": [
      "Count \t:  Feature\n",
      "2 \t:  Employment.Type\n",
      "20 \t:  PERFORM_CNS.SCORE.DESCRIPTION\n",
      "192 \t:  AVERAGE.ACCT.AGE\n",
      "291 \t:  CREDIT.HISTORY.LENGTH\n"
     ]
    }
   ],
   "source": [
    "print('Count', '\\t: ', 'Feature')\n",
    "for feature in data.columns:\n",
    "    if data[feature].dtype == object:\n",
    "        count = len(data[feature].unique())\n",
    "        print(count, '\\t: ', feature)"
   ]
  },
  {
   "cell_type": "markdown",
   "metadata": {
    "id": "VA1WbGYzgq5b"
   },
   "source": [
    "**Observations:**\n",
    "\n",
    "- Using above output, we will do as following: \n",
    "\n",
    "    - Employment.Type &rarr; One hot encoding\n",
    "\n",
    "    - PERFORM_CNS.SCORE.DESCRIPTION &rarr; Drop the feature\n",
    "\n",
    "    - AVERAGE.ACCT.AGE &rarr; Extract number and normalize to months\n",
    "    \n",
    "    - CREDIT.HISTORY.LENGTH &rarr; Extract number and normalize to months"
   ]
  },
  {
   "cell_type": "code",
   "execution_count": 11,
   "metadata": {
    "id": "-TbqSKRcM3tI"
   },
   "outputs": [],
   "source": [
    "# One hot encoding over Employment.Type\n",
    "data = pd.get_dummies(data=data, columns=['Employment.Type'])\n",
    "\n",
    "# Dropping unnecessary feature from the dataset \n",
    "data.drop(labels=['PERFORM_CNS.SCORE.DESCRIPTION'], axis=1, inplace=True)\n",
    "\n",
    "# Extracting year and month and normalizing to months only\n",
    "for column in ['AVERAGE.ACCT.AGE', 'CREDIT.HISTORY.LENGTH']:\n",
    "    year = data[column].apply(lambda x: x.split(' ')[0].replace('yrs', '')).astype(int)\n",
    "    month = data[column].apply(lambda x: x.split(' ')[1].replace('mon', '')).astype(int)\n",
    "    data[column] = year * 12 + month"
   ]
  },
  {
   "cell_type": "markdown",
   "metadata": {
    "id": "IQrdHcqBgvHJ"
   },
   "source": [
    "### Feature Scaling"
   ]
  },
  {
   "cell_type": "code",
   "execution_count": 12,
   "metadata": {
    "id": "3CIGlDWTTWj4"
   },
   "outputs": [],
   "source": [
    "# Dropping identifiers from the dataset\n",
    "identifiers = ['UniqueID', 'branch_id', 'supplier_id',  'Current_pincode_ID', \n",
    "               'Employee_code_ID', 'supplier_id', 'branch_id', 'State_ID', 'manufacturer_id']\n",
    "data.drop(labels=identifiers, axis=1, inplace=True)"
   ]
  },
  {
   "cell_type": "code",
   "execution_count": 13,
   "metadata": {
    "id": "vHdxyGC2gqvC"
   },
   "outputs": [],
   "source": [
    "scaler = StandardScaler()\n",
    "dropper = ['loan_default', 'Date.of.Birth', 'DisbursalDate']\n",
    "X_scaled = scaler.fit_transform(data.drop(dropper, axis=1))"
   ]
  },
  {
   "cell_type": "markdown",
   "metadata": {
    "id": "f29BrVUkgtWB"
   },
   "source": [
    "**Observations:**\n",
    "\n",
    "- Now that we have performing scaling over the data, let's move ahead to identify essential features for the model development."
   ]
  },
  {
   "cell_type": "markdown",
   "metadata": {
    "id": "FxrOBPZjPvJI"
   },
   "source": [
    "\n",
    "### Feature Selection\n",
    "\n",
    "- Now in the real world, it is very rare that all the **features** are **important** while developing the **model**.\n",
    "\n",
    "- Instead, we analyze the **impact** of **input** feature values over the **target** feature values.\n",
    "\n",
    "- It is either done by performing **statistical tests** (Pearson, ANOVA, Chi-Square) or by using **Random Forest**.\n",
    "\n",
    "- Random forests are one of the most **popular** machine learning **algorithms**.\n",
    "\n",
    "- They provide good predictive performance, low overfitting, and easy interpretability.\n",
    "\n",
    "- This **interpretability** is derived from the importance of each feature on the tree decision evaluated the **reduction in impurity**.\n",
    "\n",
    "- In other words, it is **easy** to **compute** how much each feature is **contributing** to the decision.\n",
    "\n",
    "- We will implement **SelectFromModel()** available in Sklearn which uses the base estimator to identify important features.\n",
    "\n",
    "- The importance of a feature is determined based on a **threshold** (a measure to calculate feature importance).\n"
   ]
  },
  {
   "cell_type": "code",
   "execution_count": 14,
   "metadata": {
    "id": "oUoptxtgP6zA"
   },
   "outputs": [],
   "source": [
    "X_scaled_frame = pd.DataFrame(data=X_scaled, columns=data.drop(labels=dropper, axis=1).columns)\n",
    "y = data['loan_default']"
   ]
  },
  {
   "cell_type": "code",
   "execution_count": 15,
   "metadata": {
    "colab": {
     "base_uri": "https://localhost:8080/"
    },
    "id": "IikovLodQH1P",
    "outputId": "328c6160-886a-43aa-bb33-e46198fdc552"
   },
   "outputs": [
    {
     "name": "stdout",
     "output_type": "stream",
     "text": [
      "Total Features Selected are 10\n",
      "Threshold set by Model: 0.03\n",
      "Important Features: ['disbursed_amount', 'asset_cost', 'ltv', 'PERFORM_CNS.SCORE', 'PRI.CURRENT.BALANCE', 'PRI.SANCTIONED.AMOUNT', 'PRI.DISBURSED.AMOUNT', 'PRIMARY.INSTAL.AMT', 'AVERAGE.ACCT.AGE', 'CREDIT.HISTORY.LENGTH']\n"
     ]
    }
   ],
   "source": [
    "# Have some patience, it may take some time :)\n",
    "selector = SelectFromModel(RandomForestClassifier(n_estimators=100, random_state=42, n_jobs=-1))\n",
    "selector.fit(X_scaled_frame, y)\n",
    "\n",
    "# Extracting list of important features\n",
    "selected_feat = X_scaled_frame.columns[(selector.get_support())].tolist()\n",
    "\n",
    "# Show total number of important features extracted by the model\n",
    "print('Total Features Selected are', len(selected_feat))\n",
    "\n",
    "# Estimated by taking mean(default) of feature importance\n",
    "print('Threshold set by Model:', np.round(selector.threshold_, decimals = 2))\n",
    "print('Important Features:', selected_feat)"
   ]
  },
  {
   "cell_type": "markdown",
   "metadata": {
    "id": "RvISPvEuQJ33"
   },
   "source": [
    "**Visualzation of Important Features:**\n",
    "\n",
    "- Below features are plotted against their absolute importance (in %age),  of each feature."
   ]
  },
  {
   "cell_type": "code",
   "execution_count": 16,
   "metadata": {
    "colab": {
     "base_uri": "https://localhost:8080/",
     "height": 519
    },
    "id": "kMhgFgpiQL0A",
    "outputId": "2a9dabe0-0dab-4c5a-cd8d-28c74d41109c"
   },
   "outputs": [
    {
     "data": {
      "image/png": "[encoded data removed]",
      "text/plain": [
       "<Figure size 1080x576 with 1 Axes>"
      ]
     },
     "metadata": {
      "needs_background": "light"
     },
     "output_type": "display_data"
    }
   ],
   "source": [
    "# Have some patience, may take some time :)\n",
    "figure = plt.figure(figsize=[15, 8])\n",
    "\n",
    "# If you don't want relative importance, use relative=False in below method\n",
    "viz = FeatureImportances(selector.estimator, relative=False)\n",
    "viz.fit(X_scaled_frame, y)\n",
    "\n",
    "plt.xlabel('Relative Importance', size=14)\n",
    "plt.ylabel('Features', size=14)\n",
    "plt.title(label='Feature Importances', size=16)\n",
    "plt.show()"
   ]
  },
  {
   "cell_type": "markdown",
   "metadata": {
    "id": "aHC_XfX7g_WZ"
   },
   "source": [
    "\n",
    "### Data Preparation\n",
    "\n",
    "- Now we will **split** our **data** in **training** and **testing** part for further development."
   ]
  },
  {
   "cell_type": "code",
   "execution_count": 17,
   "metadata": {
    "colab": {
     "base_uri": "https://localhost:8080/"
    },
    "id": "ATpzPPfsgqrO",
    "outputId": "9eed0c69-c85e-4ebe-9247-55f2bbe8224e"
   },
   "outputs": [
    {
     "name": "stdout",
     "output_type": "stream",
     "text": [
      "Training Data Shape: (180394, 10) (180394,)\n",
      "Testing Data Shape: (45099, 10) (45099,)\n"
     ]
    }
   ],
   "source": [
    "X_train, X_test, y_train, y_test = train_test_split(X_scaled_frame[selected_feat], y, test_size=0.2, random_state=42, stratify=y)\n",
    "\n",
    "print('Training Data Shape:', X_train.shape, y_train.shape)\n",
    "print('Testing Data Shape:', X_test.shape, y_test.shape)"
   ]
  },
  {
   "cell_type": "markdown",
   "metadata": {
    "id": "coaGUA33hDGK"
   },
   "source": [
    "#  Model Development & Evaluation\n"
   ]
  },
  {
   "cell_type": "markdown",
   "metadata": {
    "id": "Ztu0AxzaYNv2"
   },
   "source": [
    "## Baseline Models"
   ]
  },
  {
   "cell_type": "code",
   "execution_count": null,
   "metadata": {
    "colab": {
     "base_uri": "https://localhost:8080/"
    },
    "id": "sWMgZV6Cgqoa",
    "outputId": "f751e560-bb47-4843-c496-da5a8a3991cc"
   },
   "outputs": [],
   "source": [
    "%%time\n",
    "\n",
    "# Initialize a list of classifiers\n",
    "classifiers = [LogisticRegression(class_weight='balanced', random_state=42, max_iter=1000, n_jobs=-1), \n",
    "               RandomForestClassifier(n_estimators=1000, n_jobs=-1, random_state=42, class_weight='balanced'), \n",
    "               XGBClassifier(n_estimators=1000, n_jobs=-1, random_state=42)]\n",
    "\n",
    "# Initialize lists of respective metrics\n",
    "train_accuracies, test_accuracies = list(), list()\n",
    "train_precisions, test_precisions = list(), list()\n",
    "train_recalls, test_recalls = list(), list()\n",
    "train_f1_scores, test_f1_scores = list(), list()\n",
    "\n",
    "# Train classifiers one by one\n",
    "for classifier in classifiers:\n",
    "    classifier.fit(X_train, y_train)\n",
    "\n",
    "    y_train_predict = classifier.predict(X_train)\n",
    "    y_test_predict = classifier.predict(X_test)\n",
    "\n",
    "    train_accuracies.append(accuracy_score(y_true=y_train, y_pred=y_train_predict))\n",
    "    test_accuracies.append(accuracy_score(y_true=y_test, y_pred=y_test_predict))\n",
    "\n",
    "    train_precisions.append(precision_score(y_true=y_train, y_pred=y_train_predict))\n",
    "    test_precisions.append(precision_score(y_true=y_test, y_pred=y_test_predict))\n",
    "\n",
    "    train_recalls.append(recall_score(y_true=y_train, y_pred=y_train_predict))\n",
    "    test_recalls.append(recall_score(y_true=y_test, y_pred=y_test_predict))\n",
    "\n",
    "    train_f1_scores.append(f1_score(y_true=y_train, y_pred=y_train_predict))\n",
    "    test_f1_scores.append(f1_score(y_true=y_test, y_pred=y_test_predict))\n",
    "\n",
    "# Aggregating information and displaying the results as a dataframe\n",
    "train_results = [train_accuracies, test_accuracies, \n",
    "                 train_precisions, test_precisions, \n",
    "                 train_recalls, test_recalls, \n",
    "                 train_f1_scores, test_f1_scores]\n",
    "\n",
    "metrics = ['Accuracy (Train)', 'Accuracy (Test)', \n",
    "           'Precision (Train)', 'Precision (Test)', \n",
    "           'Recall (Train)', 'Recall (Test)', \n",
    "           'F1_Score (Train)', 'F1_Score (Test)']\n",
    "\n",
    "model_names = ['LogisticRegression', 'RandomForestClassifier', 'XGBoostClassifier']\n",
    "baseline_result_frame = pd.DataFrame(data=train_results, columns=model_names, index=metrics)\n",
    "baseline_result_frame.transpose()"
   ]
  },
  {
   "cell_type": "code",
   "execution_count": null,
   "metadata": {
    "colab": {
     "base_uri": "https://localhost:8080/",
     "height": 297
    },
    "id": "QVenJNmm5cnZ",
    "outputId": "b37a003b-4370-4435-efdf-febc18efb59a"
   },
   "outputs": [],
   "source": [
    "baseline_result_frame"
   ]
  },
  {
   "cell_type": "markdown",
   "metadata": {
    "id": "06hcppqkYSMv"
   },
   "source": [
    "\n",
    "##  Oversampling Models"
   ]
  },
  {
   "cell_type": "code",
   "execution_count": null,
   "metadata": {
    "colab": {
     "base_uri": "https://localhost:8080/"
    },
    "id": "iYpN9dkozLI5",
    "outputId": "f416fdce-9cf2-4f8e-df02-e94c4ba8eb03"
   },
   "outputs": [],
   "source": [
    "print('Training Data Shape (Old):', X_train.shape, y_train.shape)\n",
    "print('Testing Data Shape (Old):', X_test.shape, y_test.shape)\n",
    "\n",
    "sm = SMOTE(random_state=42)\n",
    "X1, y1 = sm.fit_resample(X_scaled_frame[selected_feat], y)\n",
    "X_new = pd.DataFrame(data=X1, columns=X_scaled_frame[selected_feat].columns)\n",
    "X_train, X_test, y_train, y_test = train_test_split(X_new, y1, test_size=0.2, random_state=42, stratify=y1)\n",
    "\n",
    "print('\\nTraining Data Shape (New):', X_train.shape, y_train.shape)\n",
    "print('Testing Data Shape (New):', X_test.shape, y_test.shape)"
   ]
  },
  {
   "cell_type": "code",
   "execution_count": null,
   "metadata": {
    "colab": {
     "base_uri": "https://localhost:8080/"
    },
    "id": "Z-ZNLpp9YWtB",
    "outputId": "dda3fa69-e2b5-4e45-d1f8-e13f49d5b2df"
   },
   "outputs": [],
   "source": [
    "%%time\n",
    "\n",
    "# Initialize a list of classifiers\n",
    "classifiers = [LogisticRegression(class_weight='balanced', random_state=42, max_iter=1000, n_jobs=-1), \n",
    "               RandomForestClassifier(n_estimators=1000, n_jobs=-1, random_state=42, class_weight='balanced'), \n",
    "               XGBClassifier(n_estimators=1000, n_jobs=-1, random_state=42)]\n",
    "\n",
    "# Initialize lists of respective metrics\n",
    "train_accuracies, test_accuracies = list(), list()\n",
    "train_precisions, test_precisions = list(), list()\n",
    "train_recalls, test_recalls = list(), list()\n",
    "train_f1_scores, test_f1_scores = list(), list()\n",
    "\n",
    "# Train classifiers one by one\n",
    "for classifier in classifiers:\n",
    "    classifier.fit(X_train, y_train)\n",
    "\n",
    "    y_train_predict = classifier.predict(X_train)\n",
    "    y_test_predict = classifier.predict(X_test)\n",
    "\n",
    "    train_accuracies.append(accuracy_score(y_true=y_train, y_pred=y_train_predict))\n",
    "    test_accuracies.append(accuracy_score(y_true=y_test, y_pred=y_test_predict))\n",
    "\n",
    "    train_precisions.append(precision_score(y_true=y_train, y_pred=y_train_predict))\n",
    "    test_precisions.append(precision_score(y_true=y_test, y_pred=y_test_predict))\n",
    "\n",
    "    train_recalls.append(recall_score(y_true=y_train, y_pred=y_train_predict))\n",
    "    test_recalls.append(recall_score(y_true=y_test, y_pred=y_test_predict))\n",
    "\n",
    "    train_f1_scores.append(f1_score(y_true=y_train, y_pred=y_train_predict))\n",
    "    test_f1_scores.append(f1_score(y_true=y_test, y_pred=y_test_predict))\n",
    "\n",
    "# Aggregating information and displaying the results as a dataframe\n",
    "train_results = [train_accuracies, test_accuracies, \n",
    "                 train_precisions, test_precisions, \n",
    "                 train_recalls, test_recalls, \n",
    "                 train_f1_scores, test_f1_scores]\n",
    "\n",
    "metrics = ['Accuracy (Train)', 'Accuracy (Test)', \n",
    "           'Precision (Train)', 'Precision (Test)', \n",
    "           'Recall (Train)', 'Recall (Test)', \n",
    "           'F1_Score (Train)', 'F1_Score (Test)']\n",
    "\n",
    "model_names = ['LogisticRegression', 'RandomForestClassifier', 'XGBoostClassifier']\n",
    "oversampling_result_frame = pd.DataFrame(data=train_results, columns=model_names, index=metrics)\n",
    "oversampling_result_frame.transpose()"
   ]
  },
  {
   "cell_type": "code",
   "execution_count": null,
   "metadata": {
    "colab": {
     "base_uri": "https://localhost:8080/",
     "height": 297
    },
    "id": "OA7CW6cS-mFr",
    "outputId": "ed66ce8b-7367-425e-98f4-60fbea7e1fbd"
   },
   "outputs": [],
   "source": [
    "oversampling_result_frame"
   ]
  },
  {
   "cell_type": "markdown",
   "metadata": {
    "id": "Wesgk1UBguEB"
   },
   "source": [
    "**Observations:**\n",
    "\n",
    "- We can observe that **oversampled models performed better** as compared to the baseline models.\n",
    "\n",
    "- Random Forest classifier performed great but test results are not good as compared to the train results.\n",
    "\n",
    "- XGBoost Classifier and Logistic Regression, on the other hand, performed very good in terms of **generalizing**.\n",
    "\n",
    "- We can test out both RandomForest and XGBoost for next one month to get a better idea about their performances."
   ]
  },
  {
   "cell_type": "markdown",
   "metadata": {
    "id": "9hPQ3ufehNnp"
   },
   "source": [
    "\n",
    "# Conclusion\n",
    "---\n",
    "\n",
    "- We **analyzed** and understood the **behavior** of the data and performed manipulations accordingly.\n",
    "\n",
    "- We **performed several transformations** over the l&t loan data as per the requirement.\n",
    "\n",
    "- We **tried** out Logistic Regression, Random Forest, and XGBoost algorithm both by **baseline** and **oversampling**.\n",
    "\n",
    "- It turns out that the **oversampled Random Forest** and **XGBoost model** gave us **good results**.\n",
    "\n",
    "- We can choose either one, but we should always select a **generalized model** with **better scores**."
   ]
  },
  {
   "cell_type": "code",
   "execution_count": null,
   "metadata": {},
   "outputs": [],
   "source": []
  }
 ],
 "metadata": {
  "colab": {
   "collapsed_sections": [],
   "name": "notebook.ipynb",
   "provenance": []
  },
  "interpreter": {
   "hash": "23263b619eede791ee76531faea33d0ac3cfe2e28e54d2f570a826170ba9147e"
  },
  "kernelspec": {
   "display_name": "Python 3 (ipykernel)",
   "language": "python",
   "name": "python3"
  },
  "language_info": {
   "codemirror_mode": {
    "name": "ipython",
    "version": 3
   },
   "file_extension": ".py",
   "mimetype": "text/x-python",
   "name": "python",
   "nbconvert_exporter": "python",
   "pygments_lexer": "ipython3",
   "version": "3.9.7"
  }
 },
 "nbformat": 4,
 "nbformat_minor": 1
}
